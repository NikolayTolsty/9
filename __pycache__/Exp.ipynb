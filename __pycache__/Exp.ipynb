{
 "cells": [
  {
   "cell_type": "code",
   "execution_count": 1,
   "metadata": {},
   "outputs": [],
   "source": [
    "import random"
   ]
  },
  {
   "cell_type": "code",
   "execution_count": 3,
   "metadata": {},
   "outputs": [],
   "source": [
    "months={'01':'января','02':'февраля','03':'марта','04':'апреля','05':'мая','06':'июня','07':'июля',\n",
    "        '08':'августа','09':'сентября','10':'октября','11':'ноября','12':'декабря'}\n",
    "days={'01':'первое','02':'второе','03':'третье','04':'четвертое','05':'пятое','06':'шестое','07':'седьмое',\n",
    "      '08':'восьмое','09':'девятое','10':'десятое','11':'одиннадцатое','12':'двенадцатое','13':'тринадцатое',\n",
    "      '14':'четырнадцатое','15':'пятнадцатое','16':'шестнадцатое','17':'семнадцатое','18':'восемнадцатое',\n",
    "      '19':'девятнадцатое','20':'двадцатое','21':'двадцать первое','22':'двадцать второе','23':'двадцать третье',\n",
    "      '24':'двадцать четвертое','25':'двадцать пятое','26':'двадцать шестое','27':'двадцать седьмое',\n",
    "      '28':'двадцать восьмое','29':'двадцать девятое','30':'тридцатое','31':'тридцать первое'}\n",
    "persons=['В.И.Ленин','Том Круз','Петр I','Жак-Ив Кусто','И.А.Бунин','Холли Берри',\n",
    "         'Пирс Броснан','Д.И.Менделеев','В.С.Высоцкий','Ф.Нансен']\n",
    "borndate=['22.04.1870','03.07.1962','09.06.1672','11.06.1910','22.10.1870','14.08.1966','16.05.1953',\n",
    "          '08.02.1834','25.01.1938','10.10.1861']\n",
    "numbers=list(range(len(persons)))\n",
    "total_quests=5\n",
    "samples=random.sample(numbers,total_quests)"
   ]
  },
  {
   "cell_type": "code",
   "execution_count": 22,
   "metadata": {},
   "outputs": [],
   "source": [
    "def convert_date(ddmmyyyy):\n",
    "    day=days[ddmmyyyy[:2]]\n",
    "    month=months[ddmmyyyy[3:5]]\n",
    "    year=ddmmyyyy[6:]\n",
    "    return(day+' '+month+' '+year+' года')"
   ]
  },
  {
   "cell_type": "code",
   "execution_count": 27,
   "metadata": {},
   "outputs": [
    {
     "data": {
      "text/plain": [
       "'первое апреля 1861 года'"
      ]
     },
     "execution_count": 27,
     "metadata": {},
     "output_type": "execute_result"
    }
   ],
   "source": [
    "date='01.04.1861'\n",
    "convert_date(date)"
   ]
  },
  {
   "cell_type": "code",
   "execution_count": 17,
   "metadata": {},
   "outputs": [
    {
     "data": {
      "text/plain": [
       "'десятое'"
      ]
     },
     "execution_count": 17,
     "metadata": {},
     "output_type": "execute_result"
    }
   ],
   "source": [
    "days['10']"
   ]
  },
  {
   "cell_type": "code",
   "execution_count": 23,
   "metadata": {},
   "outputs": [
    {
     "data": {
      "text/plain": [
       "'десятое октября 1861 года'"
      ]
     },
     "execution_count": 23,
     "metadata": {},
     "output_type": "execute_result"
    }
   ],
   "source": [
    "convert_date(date)"
   ]
  },
  {
   "cell_type": "code",
   "execution_count": 12,
   "metadata": {},
   "outputs": [
    {
     "name": "stdout",
     "output_type": "stream",
     "text": [
      "Верно!\n",
      "Верно!\n",
      "Правильный ответ - 08.02.1834\n",
      "Правильный ответ - 16.05.1953\n",
      "Правильный ответ - 09.06.1672\n",
      "Вы дали 2 (40%) правильных ответов и 3 (60%) неправильных\n"
     ]
    }
   ],
   "source": [
    "while True:\n",
    "    answers=[]\n",
    "    corrects=0\n",
    "    incorrects=0\n",
    "    for sample in samples:\n",
    "        answer=input(f'Когда родился(лась) {persons[sample]} (dd.mm.yyyy)?> ')\n",
    "        #answers.append(answer)\n",
    "        if answer==borndate[sample]:\n",
    "            print('Верно!')\n",
    "            corrects+=1\n",
    "        else:\n",
    "            print(f'Правильный ответ - {borndate[sample]}')\n",
    "            incorrects+=1\n",
    "    #for n in range(total_quests):\n",
    "    #    if borndate[n]==answers[n]:\n",
    "    #        print('Верно!')\n",
    "    #        corrects+=1\n",
    "    #    else:\n",
    "    #        print(f'Правильный ответ - {borndate[n]}')\n",
    "    #        incorrects+=1\n",
    "    print(f'Вы дали {corrects} ({round(corrects/total_quests*100)}%) правильных ответов \\\n",
    "и {incorrects} ({round(incorrects/total_quests*100)}%) неправильных')\n",
    "    while True:\n",
    "        repeat=input('Хотите повторить игру с начала (да/нет)?> ')\n",
    "        if repeat=='да' or repeat=='нет':\n",
    "            break\n",
    "        else: print('Ведите \"да\" или \"нет\"')\n",
    "    if repeat=='нет': break"
   ]
  },
  {
   "cell_type": "code",
   "execution_count": null,
   "metadata": {},
   "outputs": [],
   "source": []
  }
 ],
 "metadata": {
  "kernelspec": {
   "display_name": "MyEnv1",
   "language": "python",
   "name": "python3"
  },
  "language_info": {
   "codemirror_mode": {
    "name": "ipython",
    "version": 3
   },
   "file_extension": ".py",
   "mimetype": "text/x-python",
   "name": "python",
   "nbconvert_exporter": "python",
   "pygments_lexer": "ipython3",
   "version": "3.12.5"
  }
 },
 "nbformat": 4,
 "nbformat_minor": 2
}
